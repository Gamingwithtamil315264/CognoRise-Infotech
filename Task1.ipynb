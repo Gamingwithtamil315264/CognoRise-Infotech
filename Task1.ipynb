{
  "nbformat": 4,
  "nbformat_minor": 0,
  "metadata": {
    "colab": {
      "provenance": []
    },
    "kernelspec": {
      "name": "python3",
      "display_name": "Python 3"
    },
    "language_info": {
      "name": "python"
    }
  },
  "cells": [
    {
      "cell_type": "code",
      "execution_count": 3,
      "metadata": {
        "colab": {
          "base_uri": "https://localhost:8080/",
          "height": 564
        },
        "id": "0_Jqsng-n_qJ",
        "outputId": "92e479f0-ec16-4dc6-e7c0-da24f1d33e09"
      },
      "outputs": [
        {
          "output_type": "stream",
          "name": "stdout",
          "text": [
            "Enter first number: 2\n",
            "Enter second number: 4\n",
            "Enter operation: \n",
            "             1.Add\n",
            "             2.Sub\n",
            "             3.MUl\n",
            "             4.Div\n",
            "             5.Floor\n",
            "             6.Power\n",
            "             7.Sqrt\n",
            "             8.Exit1\n",
            "6\n"
          ]
        },
        {
          "output_type": "error",
          "ename": "KeyboardInterrupt",
          "evalue": "Interrupted by user",
          "traceback": [
            "\u001b[0;31m---------------------------------------------------------------------------\u001b[0m",
            "\u001b[0;31mKeyboardInterrupt\u001b[0m                         Traceback (most recent call last)",
            "\u001b[0;32m<ipython-input-3-087d68f6451a>\u001b[0m in \u001b[0;36m<cell line: 44>\u001b[0;34m()\u001b[0m\n\u001b[1;32m     43\u001b[0m \u001b[0mf\u001b[0m\u001b[0;34m=\u001b[0m\u001b[0;32mTrue\u001b[0m\u001b[0;34m\u001b[0m\u001b[0;34m\u001b[0m\u001b[0m\n\u001b[1;32m     44\u001b[0m \u001b[0;32mwhile\u001b[0m \u001b[0mf\u001b[0m\u001b[0;34m:\u001b[0m\u001b[0;34m\u001b[0m\u001b[0;34m\u001b[0m\u001b[0m\n\u001b[0;32m---> 45\u001b[0;31m   \u001b[0ma\u001b[0m\u001b[0;34m=\u001b[0m\u001b[0mint\u001b[0m\u001b[0;34m(\u001b[0m\u001b[0minput\u001b[0m\u001b[0;34m(\u001b[0m\u001b[0;34m\"Enter first number: \"\u001b[0m\u001b[0;34m)\u001b[0m\u001b[0;34m)\u001b[0m\u001b[0;34m\u001b[0m\u001b[0;34m\u001b[0m\u001b[0m\n\u001b[0m\u001b[1;32m     46\u001b[0m   \u001b[0mb\u001b[0m\u001b[0;34m=\u001b[0m\u001b[0mint\u001b[0m\u001b[0;34m(\u001b[0m\u001b[0minput\u001b[0m\u001b[0;34m(\u001b[0m\u001b[0;34m\"Enter second number: \"\u001b[0m\u001b[0;34m)\u001b[0m\u001b[0;34m)\u001b[0m\u001b[0;34m\u001b[0m\u001b[0;34m\u001b[0m\u001b[0m\n\u001b[1;32m     47\u001b[0m   c=int(input(\"\"\"Enter operation: \n",
            "\u001b[0;32m/usr/local/lib/python3.10/dist-packages/ipykernel/kernelbase.py\u001b[0m in \u001b[0;36mraw_input\u001b[0;34m(self, prompt)\u001b[0m\n\u001b[1;32m    849\u001b[0m                 \u001b[0;34m\"raw_input was called, but this frontend does not support input requests.\"\u001b[0m\u001b[0;34m\u001b[0m\u001b[0;34m\u001b[0m\u001b[0m\n\u001b[1;32m    850\u001b[0m             )\n\u001b[0;32m--> 851\u001b[0;31m         return self._input_request(str(prompt),\n\u001b[0m\u001b[1;32m    852\u001b[0m             \u001b[0mself\u001b[0m\u001b[0;34m.\u001b[0m\u001b[0m_parent_ident\u001b[0m\u001b[0;34m,\u001b[0m\u001b[0;34m\u001b[0m\u001b[0;34m\u001b[0m\u001b[0m\n\u001b[1;32m    853\u001b[0m             \u001b[0mself\u001b[0m\u001b[0;34m.\u001b[0m\u001b[0m_parent_header\u001b[0m\u001b[0;34m,\u001b[0m\u001b[0;34m\u001b[0m\u001b[0;34m\u001b[0m\u001b[0m\n",
            "\u001b[0;32m/usr/local/lib/python3.10/dist-packages/ipykernel/kernelbase.py\u001b[0m in \u001b[0;36m_input_request\u001b[0;34m(self, prompt, ident, parent, password)\u001b[0m\n\u001b[1;32m    893\u001b[0m             \u001b[0;32mexcept\u001b[0m \u001b[0mKeyboardInterrupt\u001b[0m\u001b[0;34m:\u001b[0m\u001b[0;34m\u001b[0m\u001b[0;34m\u001b[0m\u001b[0m\n\u001b[1;32m    894\u001b[0m                 \u001b[0;31m# re-raise KeyboardInterrupt, to truncate traceback\u001b[0m\u001b[0;34m\u001b[0m\u001b[0;34m\u001b[0m\u001b[0m\n\u001b[0;32m--> 895\u001b[0;31m                 \u001b[0;32mraise\u001b[0m \u001b[0mKeyboardInterrupt\u001b[0m\u001b[0;34m(\u001b[0m\u001b[0;34m\"Interrupted by user\"\u001b[0m\u001b[0;34m)\u001b[0m \u001b[0;32mfrom\u001b[0m \u001b[0;32mNone\u001b[0m\u001b[0;34m\u001b[0m\u001b[0;34m\u001b[0m\u001b[0m\n\u001b[0m\u001b[1;32m    896\u001b[0m             \u001b[0;32mexcept\u001b[0m \u001b[0mException\u001b[0m \u001b[0;32mas\u001b[0m \u001b[0me\u001b[0m\u001b[0;34m:\u001b[0m\u001b[0;34m\u001b[0m\u001b[0;34m\u001b[0m\u001b[0m\n\u001b[1;32m    897\u001b[0m                 \u001b[0mself\u001b[0m\u001b[0;34m.\u001b[0m\u001b[0mlog\u001b[0m\u001b[0;34m.\u001b[0m\u001b[0mwarning\u001b[0m\u001b[0;34m(\u001b[0m\u001b[0;34m\"Invalid Message:\"\u001b[0m\u001b[0;34m,\u001b[0m \u001b[0mexc_info\u001b[0m\u001b[0;34m=\u001b[0m\u001b[0;32mTrue\u001b[0m\u001b[0;34m)\u001b[0m\u001b[0;34m\u001b[0m\u001b[0;34m\u001b[0m\u001b[0m\n",
            "\u001b[0;31mKeyboardInterrupt\u001b[0m: Interrupted by user"
          ]
        }
      ],
      "source": [
        "def add(a,b):\n",
        "  try:\n",
        "    return a+b\n",
        "  except:\n",
        "    return \"INVALID INPUT\"\n",
        "def sub(a,b):\n",
        "  try:\n",
        "    return a-b\n",
        "  except:\n",
        "    return \"INVALID INPUT\"\n",
        "def mul(a,b):\n",
        "  try:\n",
        "    return a*b\n",
        "  except:\n",
        "    return \"INVALID INPUT\"\n",
        "def div(a,b):\n",
        "  try:\n",
        "    return a/b\n",
        "  except:\n",
        "    return \"INVALID INPUT\"\n",
        "def mod(a,b):\n",
        "  try:\n",
        "    return a%b\n",
        "  except:\n",
        "    return \"INVALID INPUT\"\n",
        "def floor(a,b):\n",
        "  try:\n",
        "    return a//b\n",
        "  except:\n",
        "    return \"INVALID INPUT\"\n",
        "def pow(a,b):\n",
        "  try:\n",
        "    return a**b\n",
        "  except:\n",
        "    return \"INVALID INPUT\"\n",
        "def sqrt(a,b):\n",
        "  try:\n",
        "    return a**0.5,b**0.5\n",
        "  except:\n",
        "    return \"INVALID INPUT\"\n",
        "def non():\n",
        "  return \"EXISTING....\"\n",
        "f=True\n",
        "while f:\n",
        "  a=int(input(\"Enter first number: \"))\n",
        "  b=int(input(\"Enter second number: \"))\n",
        "  c=int(input(\"\"\"Enter operation:\n",
        "             1.Add\n",
        "             2.Sub\n",
        "             3.MUl\n",
        "             4.Div\n",
        "             5.Floor\n",
        "             6.Power\n",
        "             7.Sqrt\n",
        "             8.Exit\"\"\"))\n",
        "  if c==1:\n",
        "    print(\"ADDITION\",add(a,b))\n",
        "  elif c==2:\n",
        "    print(\"SUBTRACTION\",sub(a,b))\n",
        "  elif c==3:\n",
        "    print(\"MULTIPLICATION\",mul(a,b))\n",
        "  elif c==4:\n",
        "    print(\"DIVISION\",div(a,b))\n",
        "  elif c==5:\n",
        "    print(\"FLOOR DIVISION\",floor(a,b))\n",
        "  elif c==6:\n",
        "    print(\"POWER\",pow(a,b))\n",
        "  elif c==7:\n",
        "    print(\"SQUARE ROOT\",sqrt(a,b))\n",
        "  else:\n",
        "    f=False\n",
        "    print(non())\n",
        ""
      ]
    }
  ]
}
