{
  "nbformat": 4,
  "nbformat_minor": 0,
  "metadata": {
    "colab": {
      "provenance": []
    },
    "kernelspec": {
      "name": "python3",
      "display_name": "Python 3"
    },
    "language_info": {
      "name": "python"
    }
  },
  "cells": [
    {
      "cell_type": "code",
      "execution_count": 6,
      "metadata": {
        "id": "m7n9vRjosA-v",
        "colab": {
          "base_uri": "https://localhost:8080/"
        },
        "outputId": "5f4d51ae-4501-43dd-bffc-1c766e958b02"
      },
      "outputs": [
        {
          "output_type": "execute_result",
          "data": {
            "text/plain": [
              "['(1Vv^NT}vli/45DUAZj]']"
            ]
          },
          "metadata": {},
          "execution_count": 6
        }
      ],
      "source": [
        "import random\n",
        "import string\n",
        "def generate_password(length):\n",
        "  passwords = []\n",
        "  password = ''. join(random.choice(string.ascii_letters + string.digits + string.punctuation) for _ in range(length*2))\n",
        "  passwords.append(password)\n",
        "  return passwords\n",
        "generate_password(10)"
      ]
    },
    {
      "cell_type": "code",
      "source": [],
      "metadata": {
        "id": "Q2wldDO7sWJW"
      },
      "execution_count": null,
      "outputs": []
    }
  ]
}